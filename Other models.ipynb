{
 "cells": [
  {
   "cell_type": "code",
   "execution_count": 16,
   "metadata": {},
   "outputs": [],
   "source": [
    "import numpy as np\n",
    "import pickle\n",
    "import pandas as pd\n",
    "import matplotlib.pyplot as plt\n",
    "% matplotlib inline\n",
    "import os\n",
    "from sklearn.linear_model import LinearRegression as LR\n",
    "from sklearn import linear_model\n",
    "import sklearn.tree\n",
    "# help(sklearn.tree)\n",
    "from sklearn.tree import DecisionTreeRegressor as DTR\n",
    "from sklearn.ensemble import GradientBoostingRegressor as GBR\n",
    "from sklearn.ensemble import AdaBoostRegressor as ABR\n",
    "from sklearn.neural_network import MLPRegressor\n",
    "from sklearn.ensemble import RandomForestRegressor as RFR\n",
    "from sklearn.ensemble import ExtraTreesRegressor as ETR"
   ]
  },
  {
   "cell_type": "code",
   "execution_count": 9,
   "metadata": {},
   "outputs": [
    {
     "name": "stdout",
     "output_type": "stream",
     "text": [
      "(945215, 175)\n",
      "(945215,)\n",
      "(202545, 175)\n",
      "(202545,)\n",
      "(202546, 175)\n",
      "(202546,)\n"
     ]
    }
   ],
   "source": [
    "with open('data/all_datasets.pkl', 'rb') as f:\n",
    "    d = pickle.load(f)\n",
    "    \n",
    "X_train = d[\"train\"][\"X\"]\n",
    "y_train = d[\"train\"][\"Y\"]\n",
    "print (X_train.shape)\n",
    "print (y_train.shape)\n",
    "\n",
    "X_validation = d[\"validation\"][\"X\"]\n",
    "y_validation = d[\"validation\"][\"Y\"]\n",
    "print (X_validation.shape)\n",
    "print (y_validation.shape)\n",
    "\n",
    "X_test = d[\"test\"][\"X\"]\n",
    "y_test = d[\"test\"][\"Y\"]\n",
    "print (X_test.shape)\n",
    "print (y_test.shape)"
   ]
  },
  {
   "cell_type": "code",
   "execution_count": 10,
   "metadata": {},
   "outputs": [],
   "source": [
    "def get_cost(model, X, y, weights=0):\n",
    "    pred = model.predict(X)\n",
    "#     weights = model.coef_\n",
    "    m = len(y)\n",
    "    return np.sum((pred - y)**2)/2./m"
   ]
  },
  {
   "cell_type": "code",
   "execution_count": 12,
   "metadata": {},
   "outputs": [
    {
     "name": "stdout",
     "output_type": "stream",
     "text": [
      "Training: LinearRegression(copy_X=True, fit_intercept=True, n_jobs=-1, normalize=False)\n",
      "LinearRegression(copy_X=True, fit_intercept=True, n_jobs=-1, normalize=False)\n",
      "Training cost: 511, validation cost: 550, test cost: 520\n",
      "\n",
      "Training: Ridge(alpha=1e-05, copy_X=True, fit_intercept=True, max_iter=None,\n",
      "   normalize=False, random_state=None, solver='auto', tol=0.001)\n",
      "Ridge(alpha=1e-05, copy_X=True, fit_intercept=True, max_iter=None,\n",
      "   normalize=False, random_state=None, solver='auto', tol=0.001)\n",
      "Training cost: 511, validation cost: 550, test cost: 520\n",
      "\n",
      "Training: DecisionTreeRegressor(criterion='mse', max_depth=None, max_features=None,\n",
      "           max_leaf_nodes=None, min_impurity_decrease=0.0,\n",
      "           min_impurity_split=None, min_samples_leaf=1,\n",
      "           min_samples_split=10, min_weight_fraction_leaf=0.0,\n",
      "           presort=False, random_state=None, splitter='best')\n",
      "DecisionTreeRegressor(criterion='mse', max_depth=None, max_features=None,\n",
      "           max_leaf_nodes=None, min_impurity_decrease=0.0,\n",
      "           min_impurity_split=None, min_samples_leaf=1,\n",
      "           min_samples_split=10, min_weight_fraction_leaf=0.0,\n",
      "           presort=False, random_state=None, splitter='best')\n",
      "Training cost: 75, validation cost: 253, test cost: 280\n",
      "\n",
      "Training: GradientBoostingRegressor(alpha=0.9, criterion='friedman_mse', init=None,\n",
      "             learning_rate=0.1, loss='ls', max_depth=3, max_features=None,\n",
      "             max_leaf_nodes=None, min_impurity_decrease=0.0,\n",
      "             min_impurity_split=None, min_samples_leaf=1,\n",
      "             min_samples_split=10, min_weight_fraction_leaf=0.0,\n",
      "             n_estimators=100, presort='auto', random_state=None,\n",
      "             subsample=1.0, verbose=0, warm_start=False)\n",
      "GradientBoostingRegressor(alpha=0.9, criterion='friedman_mse', init=None,\n",
      "             learning_rate=0.1, loss='ls', max_depth=3, max_features=None,\n",
      "             max_leaf_nodes=None, min_impurity_decrease=0.0,\n",
      "             min_impurity_split=None, min_samples_leaf=1,\n",
      "             min_samples_split=10, min_weight_fraction_leaf=0.0,\n",
      "             n_estimators=100, presort='auto', random_state=None,\n",
      "             subsample=1.0, verbose=0, warm_start=False)\n",
      "Training cost: 293, validation cost: 306, test cost: 299\n",
      "\n",
      "Training: RandomForestRegressor(bootstrap=True, criterion='mse', max_depth=None,\n",
      "           max_features='auto', max_leaf_nodes=None,\n",
      "           min_impurity_decrease=0.0, min_impurity_split=None,\n",
      "           min_samples_leaf=1, min_samples_split=10,\n",
      "           min_weight_fraction_leaf=0.0, n_estimators=10, n_jobs=1,\n",
      "           oob_score=False, random_state=None, verbose=0, warm_start=False)\n",
      "RandomForestRegressor(bootstrap=True, criterion='mse', max_depth=None,\n",
      "           max_features='auto', max_leaf_nodes=None,\n",
      "           min_impurity_decrease=0.0, min_impurity_split=None,\n",
      "           min_samples_leaf=1, min_samples_split=10,\n",
      "           min_weight_fraction_leaf=0.0, n_estimators=10, n_jobs=1,\n",
      "           oob_score=False, random_state=None, verbose=0, warm_start=False)\n",
      "Training cost: 92, validation cost: 205, test cost: 212\n",
      "\n"
     ]
    }
   ],
   "source": [
    "models = [LR(n_jobs=-1), linear_model.Ridge(alpha=0.00001), DTR(min_samples_split=10), GBR(min_samples_split=10), RFR(min_samples_split=10)]\n",
    "\n",
    "train_costs = []\n",
    "validation_costs = []\n",
    "test_costs = []\n",
    "for clf in models:\n",
    "    print (\"Training: \" + str(clf))\n",
    "    clf.fit(X_train, y_train)\n",
    "    \n",
    "    train_cost = get_cost(clf, X_train, y_train)\n",
    "    validation_cost = get_cost(clf, X_validation, y_validation)\n",
    "    test_cost = get_cost(clf, X_test, y_test)\n",
    "    \n",
    "    train_costs.append(train_cost)\n",
    "    validation_costs.append(validation_cost)\n",
    "    test_costs.append(test_cost)\n",
    "    print (\"Training cost: %d, validation cost: %d, test cost: %d\\n\" %(train_cost, validation_cost, test_cost))"
   ]
  },
  {
   "cell_type": "code",
   "execution_count": 15,
   "metadata": {},
   "outputs": [],
   "source": [
    "# ABR = ABR()\n",
    "# ABR.fit(X_train, y_train)\n",
    "\n",
    "# train_cost = get_cost(ABR, X_train, y_train)\n",
    "# validation_cost = get_cost(ABR, X_validation, y_validation)\n",
    "# test_cost = get_cost(ABR, X_test, y_test)\n",
    "\n",
    "# print (\"Training cost: %d, validation cost: %d, test cost: %d\\n\" %(train_cost, validation_cost, test_cost))"
   ]
  },
  {
   "cell_type": "code",
   "execution_count": 17,
   "metadata": {},
   "outputs": [
    {
     "name": "stdout",
     "output_type": "stream",
     "text": [
      "Training cost: 14, validation cost: 267, test cost: 296\n",
      "\n"
     ]
    }
   ],
   "source": [
    "ETR = ETR(n_jobs=-1)\n",
    "ETR.fit(X_train, y_train)\n",
    "\n",
    "train_cost = get_cost(ETR, X_train, y_train)\n",
    "validation_cost = get_cost(ETR, X_validation, y_validation)\n",
    "test_cost = get_cost(ETR, X_test, y_test)\n",
    "\n",
    "print (\"Training cost: %d, validation cost: %d, test cost: %d\\n\" %(train_cost, validation_cost, test_cost))"
   ]
  },
  {
   "cell_type": "code",
   "execution_count": 19,
   "metadata": {},
   "outputs": [
    {
     "name": "stdout",
     "output_type": "stream",
     "text": [
      "Iteration 1, loss = 267.84653049\n",
      "Iteration 2, loss = 215.45060510\n",
      "Iteration 3, loss = 190.39446945\n",
      "Iteration 4, loss = 179.45894184\n",
      "Iteration 5, loss = 169.48593453\n",
      "Iteration 6, loss = 161.78244944\n",
      "Iteration 7, loss = 153.50120934\n",
      "Iteration 8, loss = 147.14882051\n",
      "Iteration 9, loss = 142.23568646\n",
      "Iteration 10, loss = 136.16310831\n",
      "Iteration 11, loss = 132.38794242\n",
      "Iteration 12, loss = 129.53092326\n",
      "Iteration 13, loss = 125.12564788\n",
      "Iteration 14, loss = 121.37039286\n",
      "Iteration 15, loss = 118.88091291\n",
      "Iteration 16, loss = 116.46964703\n",
      "Iteration 17, loss = 114.44646758\n",
      "Iteration 18, loss = 111.77841365\n",
      "Iteration 19, loss = 110.62974274\n",
      "Iteration 20, loss = 108.65057096\n",
      "Iteration 21, loss = 107.49889439\n",
      "Iteration 22, loss = 104.57730606\n",
      "Iteration 23, loss = 103.94213637\n",
      "Iteration 24, loss = 101.94429969\n",
      "Iteration 25, loss = 101.30267589\n",
      "Iteration 26, loss = 100.30599671\n",
      "Iteration 27, loss = 99.06072083\n",
      "Iteration 28, loss = 97.78975249\n",
      "Iteration 29, loss = 96.07345872\n",
      "Iteration 30, loss = 95.76198492\n",
      "Iteration 31, loss = 94.46080110\n",
      "Iteration 32, loss = 93.96054050\n",
      "Iteration 33, loss = 93.34963754\n",
      "Iteration 34, loss = 91.90960779\n",
      "Iteration 35, loss = 91.29822679\n",
      "Iteration 36, loss = 90.49410238\n",
      "Iteration 37, loss = 89.50952615\n",
      "Iteration 38, loss = 88.49506253\n",
      "Iteration 39, loss = 88.55453178\n",
      "Iteration 40, loss = 87.00277434\n",
      "Iteration 41, loss = 86.62815790\n",
      "Iteration 42, loss = 86.39636645\n",
      "Iteration 43, loss = 85.45359593\n",
      "Iteration 44, loss = 84.41792541\n",
      "Iteration 45, loss = 84.49580663\n",
      "Iteration 46, loss = 84.69252788\n",
      "Iteration 47, loss = 83.42533556\n",
      "Iteration 48, loss = 82.78085990\n",
      "Iteration 49, loss = 82.91479486\n",
      "Iteration 50, loss = 81.60382327\n"
     ]
    },
    {
     "name": "stderr",
     "output_type": "stream",
     "text": [
      "C:\\Users\\Ted\\Anaconda2\\envs\\test\\lib\\site-packages\\sklearn\\neural_network\\multilayer_perceptron.py:566: UserWarning: Training interrupted by user.\n",
      "  warnings.warn(\"Training interrupted by user.\")\n"
     ]
    },
    {
     "data": {
      "text/plain": [
       "MLPRegressor(activation='relu', alpha=0.005, batch_size=200, beta_1=0.9,\n",
       "       beta_2=0.999, early_stopping=False, epsilon=1e-08,\n",
       "       hidden_layer_sizes=[500, 300, 200, 50, 10],\n",
       "       learning_rate='constant', learning_rate_init=0.0008, max_iter=200,\n",
       "       momentum=0.9, nesterovs_momentum=True, power_t=0.5,\n",
       "       random_state=None, shuffle=True, solver='adam', tol=0.0001,\n",
       "       validation_fraction=0.1, verbose=5, warm_start=False)"
      ]
     },
     "execution_count": 19,
     "metadata": {},
     "output_type": "execute_result"
    }
   ],
   "source": [
    "from sklearn.neural_network import MLPRegressor\n",
    "layer_sizes = [500, 300, 200, 50, 10]\n",
    "alpha = 0.005\n",
    "batch_size = 200\n",
    "# learning_rate = \"adaptive\"\n",
    "learning_rate_init = 0.0008\n",
    "MPLR= MLPRegressor(hidden_layer_sizes=layer_sizes, alpha=alpha, batch_size=batch_size, learning_rate_init=learning_rate_init, verbose=5)\n",
    "MPLR.fit(X_train, y_train)"
   ]
  },
  {
   "cell_type": "code",
   "execution_count": 21,
   "metadata": {},
   "outputs": [],
   "source": [
    "import pickle\n",
    "with open(\"sklearn_NN.pkl\", \"wb\") as f:\n",
    "    pickle.dump(MPLR, f, protocol=pickle.HIGHEST_PROTOCOL)"
   ]
  },
  {
   "cell_type": "code",
   "execution_count": 20,
   "metadata": {},
   "outputs": [
    {
     "name": "stdout",
     "output_type": "stream",
     "text": [
      "Training cost: 79, validation cost: 194, test cost: 211\n",
      "\n"
     ]
    }
   ],
   "source": [
    "train_cost = get_cost(MPLR, X_train, y_train)\n",
    "validation_cost = get_cost(MPLR, X_validation, y_validation)\n",
    "test_cost = get_cost(MPLR, X_test, y_test)\n",
    "\n",
    "print (\"Training cost: %d, validation cost: %d, test cost: %d\\n\" %(train_cost, validation_cost, test_cost))"
   ]
  },
  {
   "cell_type": "code",
   "execution_count": 22,
   "metadata": {},
   "outputs": [],
   "source": [
    "def cost(y, pred):\n",
    "    m = len(y)\n",
    "    return np.sum((y - pred)**2)/2./m"
   ]
  },
  {
   "cell_type": "code",
   "execution_count": null,
   "metadata": {},
   "outputs": [],
   "source": [
    "with open(\"results/inputs.pkl\", \"rb\") as f:\n",
    "    X = pickle.load(f)\n",
    "    \n"
   ]
  }
 ],
 "metadata": {
  "kernelspec": {
   "display_name": "Python 3",
   "language": "python",
   "name": "python3"
  },
  "language_info": {
   "codemirror_mode": {
    "name": "ipython",
    "version": 3
   },
   "file_extension": ".py",
   "mimetype": "text/x-python",
   "name": "python",
   "nbconvert_exporter": "python",
   "pygments_lexer": "ipython3",
   "version": "3.6.4"
  }
 },
 "nbformat": 4,
 "nbformat_minor": 2
}

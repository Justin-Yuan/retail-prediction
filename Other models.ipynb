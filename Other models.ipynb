{
 "cells": [
  {
   "cell_type": "code",
   "execution_count": 1,
   "metadata": {},
   "outputs": [],
   "source": [
    "import numpy as np\n",
    "import pickle\n",
    "import pandas as pd\n",
    "import matplotlib.pyplot as plt\n",
    "% matplotlib inline\n",
    "import os\n",
    "from sklearn.linear_model import LinearRegression as LR\n",
    "from sklearn import linear_model\n",
    "import sklearn.tree\n",
    "# help(sklearn.tree)\n",
    "from sklearn.tree import DecisionTreeRegressor as DTR\n",
    "from sklearn.ensemble import GradientBoostingRegressor as GBR\n",
    "from sklearn.ensemble import AdaBoostRegressor as ABR\n",
    "from sklearn.neural_network import MLPRegressor\n",
    "from sklearn.ensemble import RandomForestRegressor as RFR\n",
    "from sklearn.ensemble import ExtraTreesRegressor as ETR"
   ]
  },
  {
   "cell_type": "code",
   "execution_count": 2,
   "metadata": {},
   "outputs": [
    {
     "name": "stdout",
     "output_type": "stream",
     "text": [
      "(945215, 175)\n",
      "(945215,)\n",
      "(202545, 175)\n",
      "(202545,)\n",
      "(202546, 175)\n",
      "(202546,)\n"
     ]
    }
   ],
   "source": [
    "with open('data/datasets.pkl', 'rb') as f:\n",
    "    d = pickle.load(f)\n",
    "    \n",
    "X_train = d[\"train\"][\"X\"]\n",
    "y_train = d[\"train\"][\"Y\"]\n",
    "print (X_train.shape)\n",
    "print (y_train.shape)\n",
    "\n",
    "X_validation = d[\"validation\"][\"X\"]\n",
    "y_validation = d[\"validation\"][\"Y\"]\n",
    "print (X_validation.shape)\n",
    "print (y_validation.shape)\n",
    "\n",
    "X_test = d[\"test\"][\"X\"]\n",
    "y_test = d[\"test\"][\"Y\"]\n",
    "print (X_test.shape)\n",
    "print (y_test.shape)"
   ]
  },
  {
   "cell_type": "code",
   "execution_count": 3,
   "metadata": {},
   "outputs": [],
   "source": [
    "def get_cost(model, X, y, weights=0):\n",
    "    pred = model.predict(X)\n",
    "#     weights = model.coef_\n",
    "    m = len(y)\n",
    "    return np.sum((pred - y)**2)/2./m"
   ]
  },
  {
   "cell_type": "code",
   "execution_count": 6,
   "metadata": {
    "scrolled": true
   },
   "outputs": [
    {
     "name": "stdout",
     "output_type": "stream",
     "text": [
      "Training: RandomForestRegressor(bootstrap=True, criterion='mse', max_depth=None,\n",
      "           max_features='auto', max_leaf_nodes=None,\n",
      "           min_impurity_decrease=0.0, min_impurity_split=None,\n",
      "           min_samples_leaf=1, min_samples_split=2,\n",
      "           min_weight_fraction_leaf=0.0, n_estimators=15, n_jobs=-1,\n",
      "           oob_score=False, random_state=None, verbose=0, warm_start=False)\n",
      "RandomForestRegressor(bootstrap=True, criterion='mse', max_depth=None,\n",
      "           max_features='auto', max_leaf_nodes=None,\n",
      "           min_impurity_decrease=0.0, min_impurity_split=None,\n",
      "           min_samples_leaf=1, min_samples_split=2,\n",
      "           min_weight_fraction_leaf=0.0, n_estimators=15, n_jobs=-1,\n",
      "           oob_score=False, random_state=None, verbose=0, warm_start=False)\n",
      "Training cost: 42, validation cost: 212, test cost: 218\n",
      "\n"
     ]
    }
   ],
   "source": [
    "models = [RFR(bootstrap=True, criterion='mse', max_depth=None,\n",
    "           max_features='auto', max_leaf_nodes=None,\n",
    "           min_impurity_decrease=0.0, min_impurity_split=None,\n",
    "           min_samples_leaf=1, min_samples_split=2,\n",
    "           min_weight_fraction_leaf=0.0, n_estimators=15, n_jobs=-1,\n",
    "           oob_score=False, random_state=None, verbose=0, warm_start=False)]\n",
    "\n",
    "train_costs = []\n",
    "validation_costs = []\n",
    "test_costs = []\n",
    "for clf in models:\n",
    "    print (\"Training: \" + str(clf))\n",
    "    clf.fit(X_train, y_train)\n",
    "    \n",
    "    train_cost = get_cost(clf, X_train, y_train)\n",
    "    validation_cost = get_cost(clf, X_validation, y_validation)\n",
    "    test_cost = get_cost(clf, X_test, y_test)\n",
    "    \n",
    "    train_costs.append(train_cost)\n",
    "    validation_costs.append(validation_cost)\n",
    "    test_costs.append(test_cost)\n",
    "    \n",
    "    print (clf)\n",
    "    print (\"Training cost: %d, validation cost: %d, test cost: %d\\n\" %(train_cost, validation_cost, test_cost))"
   ]
  },
  {
   "cell_type": "code",
   "execution_count": 12,
   "metadata": {},
   "outputs": [
    {
     "name": "stdout",
     "output_type": "stream",
     "text": [
      "Training: LinearRegression(copy_X=True, fit_intercept=True, n_jobs=-1, normalize=False)\n",
      "LinearRegression(copy_X=True, fit_intercept=True, n_jobs=-1, normalize=False)\n",
      "Training cost: 511, validation cost: 550, test cost: 520\n",
      "\n",
      "Training: Ridge(alpha=1e-05, copy_X=True, fit_intercept=True, max_iter=None,\n",
      "   normalize=False, random_state=None, solver='auto', tol=0.001)\n",
      "Ridge(alpha=1e-05, copy_X=True, fit_intercept=True, max_iter=None,\n",
      "   normalize=False, random_state=None, solver='auto', tol=0.001)\n",
      "Training cost: 511, validation cost: 550, test cost: 520\n",
      "\n",
      "Training: DecisionTreeRegressor(criterion='mse', max_depth=None, max_features=None,\n",
      "           max_leaf_nodes=None, min_impurity_decrease=0.0,\n",
      "           min_impurity_split=None, min_samples_leaf=1,\n",
      "           min_samples_split=10, min_weight_fraction_leaf=0.0,\n",
      "           presort=False, random_state=None, splitter='best')\n",
      "DecisionTreeRegressor(criterion='mse', max_depth=None, max_features=None,\n",
      "           max_leaf_nodes=None, min_impurity_decrease=0.0,\n",
      "           min_impurity_split=None, min_samples_leaf=1,\n",
      "           min_samples_split=10, min_weight_fraction_leaf=0.0,\n",
      "           presort=False, random_state=None, splitter='best')\n",
      "Training cost: 75, validation cost: 253, test cost: 280\n",
      "\n",
      "Training: GradientBoostingRegressor(alpha=0.9, criterion='friedman_mse', init=None,\n",
      "             learning_rate=0.1, loss='ls', max_depth=3, max_features=None,\n",
      "             max_leaf_nodes=None, min_impurity_decrease=0.0,\n",
      "             min_impurity_split=None, min_samples_leaf=1,\n",
      "             min_samples_split=10, min_weight_fraction_leaf=0.0,\n",
      "             n_estimators=100, presort='auto', random_state=None,\n",
      "             subsample=1.0, verbose=0, warm_start=False)\n",
      "GradientBoostingRegressor(alpha=0.9, criterion='friedman_mse', init=None,\n",
      "             learning_rate=0.1, loss='ls', max_depth=3, max_features=None,\n",
      "             max_leaf_nodes=None, min_impurity_decrease=0.0,\n",
      "             min_impurity_split=None, min_samples_leaf=1,\n",
      "             min_samples_split=10, min_weight_fraction_leaf=0.0,\n",
      "             n_estimators=100, presort='auto', random_state=None,\n",
      "             subsample=1.0, verbose=0, warm_start=False)\n",
      "Training cost: 293, validation cost: 306, test cost: 299\n",
      "\n",
      "Training: RandomForestRegressor(bootstrap=True, criterion='mse', max_depth=None,\n",
      "           max_features='auto', max_leaf_nodes=None,\n",
      "           min_impurity_decrease=0.0, min_impurity_split=None,\n",
      "           min_samples_leaf=1, min_samples_split=10,\n",
      "           min_weight_fraction_leaf=0.0, n_estimators=10, n_jobs=1,\n",
      "           oob_score=False, random_state=None, verbose=0, warm_start=False)\n",
      "RandomForestRegressor(bootstrap=True, criterion='mse', max_depth=None,\n",
      "           max_features='auto', max_leaf_nodes=None,\n",
      "           min_impurity_decrease=0.0, min_impurity_split=None,\n",
      "           min_samples_leaf=1, min_samples_split=10,\n",
      "           min_weight_fraction_leaf=0.0, n_estimators=10, n_jobs=1,\n",
      "           oob_score=False, random_state=None, verbose=0, warm_start=False)\n",
      "Training cost: 92, validation cost: 205, test cost: 212\n",
      "\n"
     ]
    }
   ],
   "source": [
    "models = [LR(n_jobs=-1), linear_model.Ridge(alpha=0.00001), DTR(min_samples_split=10), GBR(min_samples_split=10), RFR(min_samples_split=10)]\n",
    "\n",
    "train_costs = []\n",
    "validation_costs = []\n",
    "test_costs = []\n",
    "for clf in models:\n",
    "    print (\"Training: \" + str(clf))\n",
    "    clf.fit(X_train, y_train)\n",
    "    \n",
    "    train_cost = get_cost(clf, X_train, y_train)\n",
    "    validation_cost = get_cost(clf, X_validation, y_validation)\n",
    "    test_cost = get_cost(clf, X_test, y_test)\n",
    "    \n",
    "    train_costs.append(train_cost)\n",
    "    validation_costs.append(validation_cost)\n",
    "    test_costs.append(test_cost)\n",
    "    print (\"Training cost: %d, validation cost: %d, test cost: %d\\n\" %(train_cost, validation_cost, test_cost))"
   ]
  },
  {
   "cell_type": "code",
   "execution_count": 15,
   "metadata": {},
   "outputs": [],
   "source": [
    "# ABR = ABR()\n",
    "# ABR.fit(X_train, y_train)\n",
    "\n",
    "# train_cost = get_cost(ABR, X_train, y_train)\n",
    "# validation_cost = get_cost(ABR, X_validation, y_validation)\n",
    "# test_cost = get_cost(ABR, X_test, y_test)\n",
    "\n",
    "# print (\"Training cost: %d, validation cost: %d, test cost: %d\\n\" %(train_cost, validation_cost, test_cost))"
   ]
  },
  {
   "cell_type": "code",
   "execution_count": 17,
   "metadata": {},
   "outputs": [
    {
     "name": "stdout",
     "output_type": "stream",
     "text": [
      "Training cost: 14, validation cost: 267, test cost: 296\n",
      "\n"
     ]
    }
   ],
   "source": [
    "ETR = ETR(n_jobs=-1)\n",
    "ETR.fit(X_train, y_train)\n",
    "\n",
    "train_cost = get_cost(ETR, X_train, y_train)\n",
    "validation_cost = get_cost(ETR, X_validation, y_validation)\n",
    "test_cost = get_cost(ETR, X_test, y_test)\n",
    "\n",
    "print (\"Training cost: %d, validation cost: %d, test cost: %d\\n\" %(train_cost, validation_cost, test_cost))"
   ]
  },
  {
   "cell_type": "code",
   "execution_count": null,
   "metadata": {},
   "outputs": [
    {
     "name": "stdout",
     "output_type": "stream",
     "text": [
      "Iteration 1, loss = 271.06213029\n",
      "Iteration 2, loss = 216.59963985\n",
      "Iteration 3, loss = 194.16647129\n"
     ]
    }
   ],
   "source": [
    "from sklearn.neural_network import MLPRegressor\n",
    "layer_sizes = [500, 300, 200, 50, 10]\n",
    "alpha = 0.005\n",
    "batch_size = 200\n",
    "# learning_rate = \"adaptive\"\n",
    "learning_rate_init = 0.0008\n",
    "MPLR= MLPRegressor(hidden_layer_sizes=layer_sizes, alpha=alpha, batch_size=batch_size, learning_rate_init=learning_rate_init, verbose=5)\n",
    "MPLR.fit(X_train, y_train)"
   ]
  },
  {
   "cell_type": "code",
   "execution_count": null,
   "metadata": {},
   "outputs": [],
   "source": [
    "train_cost = get_cost(MPLR, X_train, y_train)\n",
    "validation_cost = get_cost(MPLR, X_validation, y_validation)\n",
    "test_cost = get_cost(MPLR, X_test, y_test)\n",
    "\n",
    "print (\"Training cost: %d, validation cost: %d, test cost: %d\\n\" %(train_cost, validation_cost, test_cost))"
   ]
  }
 ],
 "metadata": {
  "kernelspec": {
   "display_name": "Python 3",
   "language": "python",
   "name": "python3"
  },
  "language_info": {
   "codemirror_mode": {
    "name": "ipython",
    "version": 3
   },
   "file_extension": ".py",
   "mimetype": "text/x-python",
   "name": "python",
   "nbconvert_exporter": "python",
   "pygments_lexer": "ipython3",
   "version": "3.6.4"
  }
 },
 "nbformat": 4,
 "nbformat_minor": 2
}

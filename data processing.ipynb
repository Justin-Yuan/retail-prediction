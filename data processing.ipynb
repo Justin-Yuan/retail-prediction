{
 "cells": [
  {
   "cell_type": "code",
   "execution_count": 21,
   "metadata": {},
   "outputs": [],
   "source": [
    "import numpy as np\n",
    "import pandas as pd \n",
    "import matplotlib.pyplot as plt \n",
    "import pickle\n",
    "# import seaborn as sns\n",
    "% matplotlib inline "
   ]
  },
  {
   "cell_type": "markdown",
   "metadata": {},
   "source": [
    "## Visualize data"
   ]
  },
  {
   "cell_type": "code",
   "execution_count": 2,
   "metadata": {},
   "outputs": [],
   "source": [
    "def update_features(df):\n",
    "    \n",
    "    # remove date, add year/month/day\n",
    "    df[\"year\"] = [str(i)[0:4] for i in df[\"date_\"]]\n",
    "    df[\"month\"] = [str(i)[4:6] for i in df[\"date_\"]]\n",
    "    df[\"day\"] = [str(i)[6:8] for i in df[\"date_\"]]\n",
    "    df[\"year\"] = df[\"year\"].astype(int)\n",
    "    df[\"month\"] = df[\"month\"].astype(int)\n",
    "    df[\"day\"] = df[\"day\"].astype(int)\n",
    "    df = df.drop(\"date_\", axis=1)\n",
    "    df = df.drop(\"on_promotion\", axis=1)\n",
    "    \n",
    "#     print (len(list(df.columns.values)))\n",
    "    for feature in [\"store\", \"department\", \"item\", \"promotion_type\", \"month\", \"day\"]:\n",
    "        labels = df[feature]\n",
    "        unique = list(set(labels))\n",
    "        n_labels = len(unique)\n",
    "#         print (feature + \" \" + str(n_labels))\n",
    "        for i in range(n_labels):\n",
    "            label = unique[i]\n",
    "            new_feature_name = feature + str(i)\n",
    "            df[new_feature_name] = (df[feature] == label).astype(int)\n",
    "            \n",
    "        df = df.drop(feature, axis=1)\n",
    "        \n",
    "    # take out outliers\n",
    "    df = df.loc[df[\"unit_price\"] < 55]\n",
    "    df = df.loc[df[\"quantity\"] < 1500]\n",
    "    \n",
    "    return df"
   ]
  },
  {
   "cell_type": "code",
   "execution_count": null,
   "metadata": {},
   "outputs": [],
   "source": [
    "# def pairwise_plot(f, fig_path):\n",
    "#     df = pd.read_csv(f)\n",
    "    \n",
    "#     # add year, month, day features\n",
    "#     df = update_features(df)\n",
    "# #     print (df)\n",
    "#     sns_plot = sns.pairplot(df)\n",
    "#     sns_plot.savefig(fig_path)\n",
    "    \n",
    "# save_path = './'"
   ]
  },
  {
   "cell_type": "code",
   "execution_count": null,
   "metadata": {},
   "outputs": [],
   "source": [
    "# path = \"data/hackathon_dataset_2011.dat\"\n",
    "# pairwise_plot(path, save_path + '2011.png')"
   ]
  },
  {
   "cell_type": "code",
   "execution_count": null,
   "metadata": {},
   "outputs": [],
   "source": [
    "# path = \"data/hackathon_dataset_2010.dat\"\n",
    "# pairwise_plot(path, save_path + '2010.png')"
   ]
  },
  {
   "cell_type": "code",
   "execution_count": null,
   "metadata": {},
   "outputs": [],
   "source": [
    "# path = \"data/hackathon_dataset_2009.dat\"\n",
    "# pairwise_plot(path, save_path + '2009.png')"
   ]
  },
  {
   "cell_type": "code",
   "execution_count": null,
   "metadata": {},
   "outputs": [],
   "source": [
    "# df = pd.DataFrame()\n",
    "# data_files=[\"data/hackathon_dataset_2011.dat\", \"data/hackathon_dataset_2010.dat\", \"data/hackathon_dataset_2009.dat\"]\n",
    "\n",
    "# for file_name in data_files:\n",
    "#     df = df.append(pd.read_csv(file_name))\n",
    "\n",
    "# df = update_features(df)\n",
    "\n",
    "# sns_plot = sns.pairplot(df)\n",
    "# sns_plot.savefig(save_path + 'total.png')\n",
    "# print (df)"
   ]
  },
  {
   "cell_type": "code",
   "execution_count": null,
   "metadata": {},
   "outputs": [],
   "source": [
    "# sns_plot = sns.pairplot(df, hue='department')"
   ]
  },
  {
   "cell_type": "markdown",
   "metadata": {},
   "source": [
    "# Manual Pairwise Comparison"
   ]
  },
  {
   "cell_type": "code",
   "execution_count": null,
   "metadata": {},
   "outputs": [],
   "source": [
    "# path = \"data/hackathon_dataset_2011.dat\"\n",
    "# df = pd.read_csv(path)\n",
    "# df = update_features(df)\n",
    "\n",
    "# pairs = [(\"store\", \"department\"), (\"store\", \"item\"), (\"store\", \"unit_price\"), (\"store\", \"promotion_type\"), (\"store\")]\n",
    "# features= list(df.columns.values)\n",
    "# n_features = len(features)\n",
    "# for i in range(n_features):\n",
    "#     for j in range(i+1, n_features):\n",
    "#         plt.figure(figsize=(15, 15))\n",
    "#         f1 = features[i]\n",
    "#         f2 = features[j]\n",
    "#         plt.plot(df[f1], df[f2], 'o')\n",
    "#         plt.xlabel(f1)\n",
    "#         plt.ylabel(f2)\n",
    "#         plt.show()"
   ]
  },
  {
   "cell_type": "code",
   "execution_count": null,
   "metadata": {},
   "outputs": [],
   "source": [
    "# features= list(df.columns.values)\n",
    "# n_features = len(features)\n",
    "# for i in range(n_features):\n",
    "#     plt.figure(figsize=(15, 15))\n",
    "#     f1 = \"quantity\"\n",
    "#     f2 = features[i]\n",
    "#     plt.plot(df[f1], df[f2], 'o')\n",
    "#     plt.xlabel(f1)\n",
    "#     plt.ylabel(f2)\n",
    "#     plt.show()"
   ]
  },
  {
   "cell_type": "markdown",
   "metadata": {},
   "source": [
    "# Split data into training, validation, and test sets"
   ]
  },
  {
   "cell_type": "code",
   "execution_count": 25,
   "metadata": {
    "scrolled": true
   },
   "outputs": [],
   "source": [
    "df = pd.DataFrame()\n",
    "data_files=[\"data/hackathon_dataset_2011.dat\", \"data/hackathon_dataset_2010.dat\", \"data/hackathon_dataset_2009.dat\"]\n",
    "\n",
    "for file_name in data_files:\n",
    "    df = df.append(pd.read_csv(file_name))\n",
    "\n",
    "# print (len(df))\n",
    "df = update_features(df)\n",
    "# print (len(df))\n",
    "# df = normalize_data(df)\n",
    "\n",
    "n_points = len(df)\n",
    "n_train = int(n_points*0.7)\n",
    "n_validation = int(n_points*0.15)\n",
    "n_test = int(n_points*0.15)\n",
    "np.random.seed(0)\n",
    "shuffled_idxs = np.arange(n_points)\n",
    "np.random.shuffle(shuffled_idxs)\n",
    "\n",
    "train = df.iloc[shuffled_idxs[:n_train+1]]\n",
    "validation = df.iloc[shuffled_idxs[n_train+1:n_train+n_validation+1]]\n",
    "test = df.iloc[shuffled_idxs[n_train+n_validation+1:]]"
   ]
  },
  {
   "cell_type": "code",
   "execution_count": 18,
   "metadata": {
    "scrolled": true
   },
   "outputs": [
    {
     "name": "stdout",
     "output_type": "stream",
     "text": [
      "33722\n",
      "store 20\n",
      "department 4\n",
      "item 100\n",
      "promotion_type 7\n",
      "month 12\n",
      "day 31\n"
     ]
    }
   ],
   "source": [
    "result_file = \"data/hackathon_result.dat\"\n",
    "df = pd.read_csv(result_file)\n",
    "print (len(df))\n",
    "def update_results(df):\n",
    "#     df[\"year\"] = [str(i)[0:4] for i in df[\"date_\"]]\n",
    "    df[\"month\"] = [str(i)[4:6] for i in df[\"date_\"]]\n",
    "    df[\"day\"] = [str(i)[6:8] for i in df[\"date_\"]]\n",
    "#     df[\"year\"] = df[\"year\"].astype(int)\n",
    "    df[\"month\"] = df[\"month\"].astype(int)\n",
    "    df[\"day\"] = df[\"day\"].astype(int)\n",
    "    df = df.drop(\"date_\", axis=1)\n",
    "    df = df.drop(\"on_promotion\", axis=1)\n",
    "    \n",
    "    num_labels = [20, 4, 100, 7, 12, 31]\n",
    "    feature_list = [\"store\", \"department\", \"item\", \"promotion_type\", \"month\", \"day\"]\n",
    "    for i in range(len(feature_list)):\n",
    "        feature = feature_list[i]\n",
    "        labels = df[feature]\n",
    "        unique = list(set(labels))\n",
    "        if feature == \"day\":\n",
    "            unique = [0] + unique\n",
    "        n_labels = num_labels[i]\n",
    "        print (feature + \" \" + str(n_labels))\n",
    "        for i in range(n_labels):\n",
    "            try:\n",
    "                label = unique[i]\n",
    "            except:\n",
    "                label = float('inf')\n",
    "            new_feature_name = feature + str(i)\n",
    "            df[new_feature_name] = (df[feature] == label).astype(int)\n",
    "\n",
    "        df = df.drop(feature, axis=1)\n",
    "        \n",
    "    # take out outliers\n",
    "    df = df.drop(\"quantity\", axis=1)\n",
    "    \n",
    "    return df\n",
    "\n",
    "result = update_results(df)"
   ]
  },
  {
   "cell_type": "code",
   "execution_count": 19,
   "metadata": {},
   "outputs": [
    {
     "name": "stdout",
     "output_type": "stream",
     "text": [
      "(945215, 177)\n",
      "(202545, 177)\n",
      "(202546, 177)\n",
      "(33722, 175)\n"
     ]
    }
   ],
   "source": [
    "print (train.shape)\n",
    "print (validation.shape)\n",
    "print (test.shape)\n",
    "print (result.shape)"
   ]
  },
  {
   "cell_type": "code",
   "execution_count": 22,
   "metadata": {},
   "outputs": [],
   "source": [
    "with open('data/inputs.pkl', 'wb') as f:\n",
    "    pickle.dump(result.as_matrix(), f, protocol=pickle.HIGHEST_PROTOCOL)"
   ]
  },
  {
   "cell_type": "code",
   "execution_count": null,
   "metadata": {},
   "outputs": [],
   "source": [
    "def make_dataset_dict(train, validation, test):\n",
    "    d = dict()\n",
    "    \n",
    "    d[\"train\"] = dict()\n",
    "    train = train.drop(\"year\", axis=1)\n",
    "    d[\"train\"][\"Y\"] = train[\"quantity\"].as_matrix()\n",
    "    d[\"train\"][\"X\"] = train.drop(\"quantity\", axis=1).as_matrix()\n",
    "    \n",
    "    d[\"validation\"] = dict()\n",
    "    validation = validation.drop(\"year\", axis=1)\n",
    "    d[\"validation\"][\"Y\"] = validation[\"quantity\"].as_matrix()\n",
    "    d[\"validation\"][\"X\"] = validation.drop(\"quantity\", axis=1).as_matrix()\n",
    "    \n",
    "    d[\"test\"] = dict()\n",
    "    test = test.drop(\"year\", axis=1)\n",
    "    d[\"test\"][\"Y\"] = test[\"quantity\"].as_matrix()\n",
    "    d[\"test\"][\"X\"] = test.drop(\"quantity\", axis=1).as_matrix()\n",
    "    \n",
    "    return d\n",
    "\n",
    "train2009 = train.loc[train['year'] == 2009]\n",
    "train2010 = train.loc[train['year'] == 2010]\n",
    "train2011 = train.loc[train['year'] == 2011]\n",
    "validation2009 = validation.loc[validation['year'] == 2009]\n",
    "validation2010 = validation.loc[validation['year'] == 2010]\n",
    "validation2011 = validation.loc[validation['year'] == 2011]\n",
    "test2009 = test.loc[test['year'] == 2009]\n",
    "test2010 = test.loc[test['year'] == 2010]\n",
    "test2011 = test.loc[test['year'] == 2011]\n",
    "\n",
    "data_2009 = make_dataset_dict(train2009, validation2009, test2009)\n",
    "data_2010 = make_dataset_dict(train2010, validation2010, test2010)\n",
    "data_2011 = make_dataset_dict(train2011, validation2011, test2011)\n",
    "all_data = make_dataset_dict(train, validation, test)"
   ]
  },
  {
   "cell_type": "code",
   "execution_count": null,
   "metadata": {},
   "outputs": [],
   "source": [
    "with open('data/2009_datasets.pkl', 'wb') as f:\n",
    "    pickle.dump(data_2009, f, protocol=pickle.HIGHEST_PROTOCOL)\n",
    "\n",
    "with open('data/2010_datasets.pkl', 'wb') as f:\n",
    "    pickle.dump(data_2010, f, protocol=pickle.HIGHEST_PROTOCOL)\n",
    "    \n",
    "with open('data/2011_datasets.pkl', 'wb') as f:\n",
    "    pickle.dump(data_2011, f, protocol=pickle.HIGHEST_PROTOCOL)\n",
    "    \n",
    "with open('data/all_datasets.pkl', 'wb') as f:\n",
    "    pickle.dump(all_data, f, protocol=pickle.HIGHEST_PROTOCOL)\n",
    "    \n",
    "# with open('data/2009_datasets.pkl', 'rb') as f:\n",
    "#     t = pickle.load(f)\n",
    "    \n",
    "# print (t[\"train\"][\"Y\"])\n",
    "# result = result.drop(\"year\", axis=1)\n",
    "# with open('data/test.pkl', 'wb') as f:\n",
    "#     pickle.dump(test.as_matrix(), f, protocol=pickle.HIGHEST_PROTOCOL)"
   ]
  },
  {
   "cell_type": "code",
   "execution_count": null,
   "metadata": {},
   "outputs": [],
   "source": [
    "# with open('data/2009_datasets.pkl', 'rb') as f:\n",
    "#     t = pickle.load(f)\n",
    "    \n",
    "# print (t[\"train\"][\"X\"].shape)\n",
    "\n",
    "# with open('data/2010_datasets.pkl', 'rb') as f:\n",
    "#     t = pickle.load(f)\n",
    "    \n",
    "# print (t[\"train\"][\"X\"].shape)\n",
    "\n",
    "# with open('data/2011_datasets.pkl', 'rb') as f:\n",
    "#     t = pickle.load(f)\n",
    "    \n",
    "# print (t[\"train\"][\"X\"].shape)"
   ]
  },
  {
   "cell_type": "code",
   "execution_count": 27,
   "metadata": {},
   "outputs": [
    {
     "name": "stdout",
     "output_type": "stream",
     "text": [
      "[ 2.   6.   6.  ... 24.   4.5  3. ]\n"
     ]
    },
    {
     "data": {
      "image/png": "[encoded data removed]",
      "text/plain": [
       "<matplotlib.figure.Figure at 0x2bd199ede48>"
      ]
     },
     "metadata": {},
     "output_type": "display_data"
    },
    {
     "name": "stdout",
     "output_type": "stream",
     "text": [
      "429\n"
     ]
    }
   ],
   "source": [
    "df = pd.DataFrame()\n",
    "data_files=[\"data/hackathon_dataset_2011.dat\", \"data/hackathon_dataset_2010.dat\", \"data/hackathon_dataset_2009.dat\"]\n",
    "\n",
    "for file_name in data_files:\n",
    "    df = df.append(pd.read_csv(file_name))\n",
    "    \n",
    "feature = \"quantity\"\n",
    "l = np.asarray(df[feature])\n",
    "print (l)\n",
    "plt.hist(l)\n",
    "plt.xlabel(feature)\n",
    "plt.title('Histogram of quantities in dataset')\n",
    "plt.show()\n",
    "print (np.sum(l >= 1000))"
   ]
  }
 ],
 "metadata": {
  "kernelspec": {
   "display_name": "Python 3",
   "language": "python",
   "name": "python3"
  },
  "language_info": {
   "codemirror_mode": {
    "name": "ipython",
    "version": 3
   },
   "file_extension": ".py",
   "mimetype": "text/x-python",
   "name": "python",
   "nbconvert_exporter": "python",
   "pygments_lexer": "ipython3",
   "version": "3.6.4"
  }
 },
 "nbformat": 4,
 "nbformat_minor": 2
}

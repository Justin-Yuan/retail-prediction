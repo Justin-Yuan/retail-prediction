{
 "cells": [
  {
   "cell_type": "markdown",
   "metadata": {},
   "source": [
    "<center>\n",
    "<h1>UDST Bootcamp: Week 1</h1>\n",
    "</center>"
   ]
  },
  {
   "cell_type": "markdown",
   "metadata": {},
   "source": [
    "## Notation / Style Guide\n",
    "To help make reading the code easier, the following style guide will be used for variable naming:\n",
    "\n",
    "\n",
    "<center><strong>$var_dataset</strong></center>\n",
    "\n",
    "var: Variable name, lowercase for a single element or vector and uppercase for a matrix\n",
    "\n",
    "dataset: Will be one of {train, test, validation} indicating that the element(s) in var belong to this subset of the data"
   ]
  },
  {
   "cell_type": "markdown",
   "metadata": {},
   "source": [
    "## Useful Functions & Tips"
   ]
  },
  {
   "cell_type": "markdown",
   "metadata": {},
   "source": [
    "- `np.square(var)`: Square a variable, element-wise if the variable is a vector or matrix\n",
    "- `np.sum(var, axis)`: Compute the sum of the elements of var. If var is a matrix, set axis=0 to sum the rows or axis=1 for columns\n",
    "- `print(your_variable.shape)`: Use this if you're unsure of the dimensions of your variable. This will print a tuple  of the form (num rows, num columns)\n",
    "- Slicing and Indexing: Best understood through a few examples. Note, if you're working with a dataframe use .iloc[ ]. If you're working with a numpy array, just use [ ] directly.\n",
    "    - `X.iloc[:, :]` will select all elements in X, equivalent to just using X directly\n",
    "    - `X.iloc[:, 6]` Selects the 7th column from X\n",
    "    - `X.iloc[0, :]` Selects the 1st row from X\n",
    "- `Counter(list).most_common(n)`: Returns an array of the n most common items in list as tuples of the form (item, frequency)\n",
    "\n",
    "For more help, refer to the NumPy User Guide: https://docs.scipy.org/doc/numpy-1.10.0/user/index.html or reference: https://docs.scipy.org/doc/numpy-1.10.0/reference/index.html"
   ]
  },
  {
   "cell_type": "markdown",
   "metadata": {},
   "source": [
    "## Imports"
   ]
  },
  {
   "cell_type": "code",
   "execution_count": 1,
   "metadata": {
    "collapsed": true
   },
   "outputs": [],
   "source": [
    "%matplotlib inline\n",
    "\n",
    "import os\n",
    "import numpy as np\n",
    "import pandas as pd\n",
    "import seaborn as sns\n",
    "import matplotlib.pyplot as plt\n",
    "\n",
    "from collections import Counter"
   ]
  },
  {
   "cell_type": "markdown",
   "metadata": {},
   "source": [
    "## Data Load and Prep"
   ]
  },
  {
   "cell_type": "markdown",
   "metadata": {},
   "source": [
    "For this workbook, we'll be using the Iris flower species dataset from UCI: https://www.kaggle.com/uciml/iris/downloads/Iris.csv \n",
    "\n",
    "Make sure you download the .csv into a folder name data/ in the same directory as this workbook. First, let's store our paths so things don't break if things get moved around."
   ]
  },
  {
   "cell_type": "code",
   "execution_count": 2,
   "metadata": {
    "collapsed": true
   },
   "outputs": [],
   "source": [
    "# CWD (Current Working Directory) is the directory this notebook is located\n",
    "CWD = os.getcwd()\n",
    "# Within CWD, create a sub-directory called data, to put your data in obviously.\n",
    "DATA_DIR = os.path.join(os.getcwd(), 'data')\n",
    "# Create another sub-directory called out, to put any plots or saved models\n",
    "OUT_DIR = os.path.join(os.getcwd(), 'out')"
   ]
  },
  {
   "cell_type": "markdown",
   "metadata": {},
   "source": [
    "Now let's import the data. We'll use pandas to read in the .csv file containing our data. Pandas stores data in an object called a DataFrame. We won't cover the details of the pandas library here but you can think of a DataFrame as a powerful extension of a Python dictionary - more can be read about it here:  https://pandas.pydata.org/pandas-docs/stable/generated/pandas.DataFrame.html"
   ]
  },
  {
   "cell_type": "code",
   "execution_count": 3,
   "metadata": {},
   "outputs": [
    {
     "data": {
      "text/plain": [
       "pandas.core.frame.DataFrame"
      ]
     },
     "execution_count": 3,
     "metadata": {},
     "output_type": "execute_result"
    }
   ],
   "source": [
    "dataset = pd.read_csv(os.path.join(DATA_DIR,'Iris.csv'))\n",
    "type(dataset)"
   ]
  },
  {
   "cell_type": "markdown",
   "metadata": {},
   "source": [
    "We'll use head() and tail() to view the first and last 5 rows of our dataset respectively, so we know what we're working with."
   ]
  },
  {
   "cell_type": "code",
   "execution_count": 4,
   "metadata": {},
   "outputs": [
    {
     "data": {
      "text/html": [
       "<div>\n",
       "<style>\n",
       "    .dataframe thead tr:only-child th {\n",
       "        text-align: right;\n",
       "    }\n",
       "\n",
       "    .dataframe thead th {\n",
       "        text-align: left;\n",
       "    }\n",
       "\n",
       "    .dataframe tbody tr th {\n",
       "        vertical-align: top;\n",
       "    }\n",
       "</style>\n",
       "<table border=\"1\" class=\"dataframe\">\n",
       "  <thead>\n",
       "    <tr style=\"text-align: right;\">\n",
       "      <th></th>\n",
       "      <th>Id</th>\n",
       "      <th>SepalLengthCm</th>\n",
       "      <th>SepalWidthCm</th>\n",
       "      <th>PetalLengthCm</th>\n",
       "      <th>PetalWidthCm</th>\n",
       "      <th>Species</th>\n",
       "    </tr>\n",
       "  </thead>\n",
       "  <tbody>\n",
       "    <tr>\n",
       "      <th>0</th>\n",
       "      <td>1</td>\n",
       "      <td>5.1</td>\n",
       "      <td>3.5</td>\n",
       "      <td>1.4</td>\n",
       "      <td>0.2</td>\n",
       "      <td>Iris-setosa</td>\n",
       "    </tr>\n",
       "    <tr>\n",
       "      <th>1</th>\n",
       "      <td>2</td>\n",
       "      <td>4.9</td>\n",
       "      <td>3.0</td>\n",
       "      <td>1.4</td>\n",
       "      <td>0.2</td>\n",
       "      <td>Iris-setosa</td>\n",
       "    </tr>\n",
       "    <tr>\n",
       "      <th>2</th>\n",
       "      <td>3</td>\n",
       "      <td>4.7</td>\n",
       "      <td>3.2</td>\n",
       "      <td>1.3</td>\n",
       "      <td>0.2</td>\n",
       "      <td>Iris-setosa</td>\n",
       "    </tr>\n",
       "    <tr>\n",
       "      <th>3</th>\n",
       "      <td>4</td>\n",
       "      <td>4.6</td>\n",
       "      <td>3.1</td>\n",
       "      <td>1.5</td>\n",
       "      <td>0.2</td>\n",
       "      <td>Iris-setosa</td>\n",
       "    </tr>\n",
       "    <tr>\n",
       "      <th>4</th>\n",
       "      <td>5</td>\n",
       "      <td>5.0</td>\n",
       "      <td>3.6</td>\n",
       "      <td>1.4</td>\n",
       "      <td>0.2</td>\n",
       "      <td>Iris-setosa</td>\n",
       "    </tr>\n",
       "  </tbody>\n",
       "</table>\n",
       "</div>"
      ],
      "text/plain": [
       "   Id  SepalLengthCm  SepalWidthCm  PetalLengthCm  PetalWidthCm      Species\n",
       "0   1            5.1           3.5            1.4           0.2  Iris-setosa\n",
       "1   2            4.9           3.0            1.4           0.2  Iris-setosa\n",
       "2   3            4.7           3.2            1.3           0.2  Iris-setosa\n",
       "3   4            4.6           3.1            1.5           0.2  Iris-setosa\n",
       "4   5            5.0           3.6            1.4           0.2  Iris-setosa"
      ]
     },
     "execution_count": 4,
     "metadata": {},
     "output_type": "execute_result"
    }
   ],
   "source": [
    "dataset.head()"
   ]
  },
  {
   "cell_type": "code",
   "execution_count": 5,
   "metadata": {},
   "outputs": [
    {
     "data": {
      "text/html": [
       "<div>\n",
       "<style>\n",
       "    .dataframe thead tr:only-child th {\n",
       "        text-align: right;\n",
       "    }\n",
       "\n",
       "    .dataframe thead th {\n",
       "        text-align: left;\n",
       "    }\n",
       "\n",
       "    .dataframe tbody tr th {\n",
       "        vertical-align: top;\n",
       "    }\n",
       "</style>\n",
       "<table border=\"1\" class=\"dataframe\">\n",
       "  <thead>\n",
       "    <tr style=\"text-align: right;\">\n",
       "      <th></th>\n",
       "      <th>Id</th>\n",
       "      <th>SepalLengthCm</th>\n",
       "      <th>SepalWidthCm</th>\n",
       "      <th>PetalLengthCm</th>\n",
       "      <th>PetalWidthCm</th>\n",
       "      <th>Species</th>\n",
       "    </tr>\n",
       "  </thead>\n",
       "  <tbody>\n",
       "    <tr>\n",
       "      <th>145</th>\n",
       "      <td>146</td>\n",
       "      <td>6.7</td>\n",
       "      <td>3.0</td>\n",
       "      <td>5.2</td>\n",
       "      <td>2.3</td>\n",
       "      <td>Iris-virginica</td>\n",
       "    </tr>\n",
       "    <tr>\n",
       "      <th>146</th>\n",
       "      <td>147</td>\n",
       "      <td>6.3</td>\n",
       "      <td>2.5</td>\n",
       "      <td>5.0</td>\n",
       "      <td>1.9</td>\n",
       "      <td>Iris-virginica</td>\n",
       "    </tr>\n",
       "    <tr>\n",
       "      <th>147</th>\n",
       "      <td>148</td>\n",
       "      <td>6.5</td>\n",
       "      <td>3.0</td>\n",
       "      <td>5.2</td>\n",
       "      <td>2.0</td>\n",
       "      <td>Iris-virginica</td>\n",
       "    </tr>\n",
       "    <tr>\n",
       "      <th>148</th>\n",
       "      <td>149</td>\n",
       "      <td>6.2</td>\n",
       "      <td>3.4</td>\n",
       "      <td>5.4</td>\n",
       "      <td>2.3</td>\n",
       "      <td>Iris-virginica</td>\n",
       "    </tr>\n",
       "    <tr>\n",
       "      <th>149</th>\n",
       "      <td>150</td>\n",
       "      <td>5.9</td>\n",
       "      <td>3.0</td>\n",
       "      <td>5.1</td>\n",
       "      <td>1.8</td>\n",
       "      <td>Iris-virginica</td>\n",
       "    </tr>\n",
       "  </tbody>\n",
       "</table>\n",
       "</div>"
      ],
      "text/plain": [
       "      Id  SepalLengthCm  SepalWidthCm  PetalLengthCm  PetalWidthCm  \\\n",
       "145  146            6.7           3.0            5.2           2.3   \n",
       "146  147            6.3           2.5            5.0           1.9   \n",
       "147  148            6.5           3.0            5.2           2.0   \n",
       "148  149            6.2           3.4            5.4           2.3   \n",
       "149  150            5.9           3.0            5.1           1.8   \n",
       "\n",
       "            Species  \n",
       "145  Iris-virginica  \n",
       "146  Iris-virginica  \n",
       "147  Iris-virginica  \n",
       "148  Iris-virginica  \n",
       "149  Iris-virginica  "
      ]
     },
     "execution_count": 5,
     "metadata": {},
     "output_type": "execute_result"
    }
   ],
   "source": [
    "dataset.tail()"
   ]
  },
  {
   "cell_type": "markdown",
   "metadata": {},
   "source": [
    "In statistics, it is common to generate a five-number summary to get a quick overview of your dataset. The five numbers are:\n",
    "\n",
    "    1) Minimum\n",
    "    2) First quartile \n",
    "    3) Median\n",
    "    4) Third quartile\n",
    "    5) Maximum\n",
    "    \n",
    "Pandas can provide these (along with some other for each feature in our dataset with one simple function call:"
   ]
  },
  {
   "cell_type": "code",
   "execution_count": 6,
   "metadata": {},
   "outputs": [
    {
     "data": {
      "text/html": [
       "<div>\n",
       "<style>\n",
       "    .dataframe thead tr:only-child th {\n",
       "        text-align: right;\n",
       "    }\n",
       "\n",
       "    .dataframe thead th {\n",
       "        text-align: left;\n",
       "    }\n",
       "\n",
       "    .dataframe tbody tr th {\n",
       "        vertical-align: top;\n",
       "    }\n",
       "</style>\n",
       "<table border=\"1\" class=\"dataframe\">\n",
       "  <thead>\n",
       "    <tr style=\"text-align: right;\">\n",
       "      <th></th>\n",
       "      <th>Id</th>\n",
       "      <th>SepalLengthCm</th>\n",
       "      <th>SepalWidthCm</th>\n",
       "      <th>PetalLengthCm</th>\n",
       "      <th>PetalWidthCm</th>\n",
       "    </tr>\n",
       "  </thead>\n",
       "  <tbody>\n",
       "    <tr>\n",
       "      <th>count</th>\n",
       "      <td>150.000000</td>\n",
       "      <td>150.000000</td>\n",
       "      <td>150.000000</td>\n",
       "      <td>150.000000</td>\n",
       "      <td>150.000000</td>\n",
       "    </tr>\n",
       "    <tr>\n",
       "      <th>mean</th>\n",
       "      <td>75.500000</td>\n",
       "      <td>5.843333</td>\n",
       "      <td>3.054000</td>\n",
       "      <td>3.758667</td>\n",
       "      <td>1.198667</td>\n",
       "    </tr>\n",
       "    <tr>\n",
       "      <th>std</th>\n",
       "      <td>43.445368</td>\n",
       "      <td>0.828066</td>\n",
       "      <td>0.433594</td>\n",
       "      <td>1.764420</td>\n",
       "      <td>0.763161</td>\n",
       "    </tr>\n",
       "    <tr>\n",
       "      <th>min</th>\n",
       "      <td>1.000000</td>\n",
       "      <td>4.300000</td>\n",
       "      <td>2.000000</td>\n",
       "      <td>1.000000</td>\n",
       "      <td>0.100000</td>\n",
       "    </tr>\n",
       "    <tr>\n",
       "      <th>25%</th>\n",
       "      <td>38.250000</td>\n",
       "      <td>5.100000</td>\n",
       "      <td>2.800000</td>\n",
       "      <td>1.600000</td>\n",
       "      <td>0.300000</td>\n",
       "    </tr>\n",
       "    <tr>\n",
       "      <th>50%</th>\n",
       "      <td>75.500000</td>\n",
       "      <td>5.800000</td>\n",
       "      <td>3.000000</td>\n",
       "      <td>4.350000</td>\n",
       "      <td>1.300000</td>\n",
       "    </tr>\n",
       "    <tr>\n",
       "      <th>75%</th>\n",
       "      <td>112.750000</td>\n",
       "      <td>6.400000</td>\n",
       "      <td>3.300000</td>\n",
       "      <td>5.100000</td>\n",
       "      <td>1.800000</td>\n",
       "    </tr>\n",
       "    <tr>\n",
       "      <th>max</th>\n",
       "      <td>150.000000</td>\n",
       "      <td>7.900000</td>\n",
       "      <td>4.400000</td>\n",
       "      <td>6.900000</td>\n",
       "      <td>2.500000</td>\n",
       "    </tr>\n",
       "  </tbody>\n",
       "</table>\n",
       "</div>"
      ],
      "text/plain": [
       "               Id  SepalLengthCm  SepalWidthCm  PetalLengthCm  PetalWidthCm\n",
       "count  150.000000     150.000000    150.000000     150.000000    150.000000\n",
       "mean    75.500000       5.843333      3.054000       3.758667      1.198667\n",
       "std     43.445368       0.828066      0.433594       1.764420      0.763161\n",
       "min      1.000000       4.300000      2.000000       1.000000      0.100000\n",
       "25%     38.250000       5.100000      2.800000       1.600000      0.300000\n",
       "50%     75.500000       5.800000      3.000000       4.350000      1.300000\n",
       "75%    112.750000       6.400000      3.300000       5.100000      1.800000\n",
       "max    150.000000       7.900000      4.400000       6.900000      2.500000"
      ]
     },
     "execution_count": 6,
     "metadata": {},
     "output_type": "execute_result"
    }
   ],
   "source": [
    "dataset.describe()"
   ]
  },
  {
   "cell_type": "markdown",
   "metadata": {},
   "source": [
    "This dataset only has 150 rows - very small! Also notice that the 'Species' column doesn't appear when you call describe() as the five-number summary doesn't make sense for a column of strings."
   ]
  },
  {
   "cell_type": "markdown",
   "metadata": {},
   "source": [
    "This dataset doesn't come with separate training and test data so we'll need to separate it ourselves. What percentage of the dataset goes to training and test depends on if you'll also be using a validation set. We won't use a validation set in this workbook so we'll use a common 70/30 split, with 70% of the data used for training and 30% for testing."
   ]
  },
  {
   "cell_type": "code",
   "execution_count": 7,
   "metadata": {
    "collapsed": true
   },
   "outputs": [],
   "source": [
    "# Corresponds to 105 rows (rounded up)\n",
    "TRAIN_PCNT = 0.7 \n",
    "# Corresponds to 45 rows\n",
    "TEST_PCNT = 0.3 "
   ]
  },
  {
   "cell_type": "markdown",
   "metadata": {},
   "source": [
    "To build the training set, we'll want to randomly sample 105 rows from the dataset without replacement. The test set will then be whatever rows are left over."
   ]
  },
  {
   "cell_type": "code",
   "execution_count": 8,
   "metadata": {
    "collapsed": true
   },
   "outputs": [],
   "source": [
    "train = dataset.sample(n=int(np.ceil(TRAIN_PCNT * dataset.shape[0])), replace=False)\n",
    "test = dataset[~dataset.index.isin(train.index)]"
   ]
  },
  {
   "cell_type": "code",
   "execution_count": 9,
   "metadata": {},
   "outputs": [
    {
     "name": "stdout",
     "output_type": "stream",
     "text": [
      "Training Data Num Rows: 105\n",
      "Test Data Num Rows: \t45\n"
     ]
    }
   ],
   "source": [
    "print(\"Training Data Num Rows: {0}\".format(train.shape[0]))\n",
    "print(\"Test Data Num Rows: \\t{0}\".format(test.shape[0]))"
   ]
  },
  {
   "cell_type": "markdown",
   "metadata": {},
   "source": [
    "Let's regenerate the five-number summary for our training data. We won't do the same for our test data - you want to leave your test set untouched until the very end once you've trained and validated your model."
   ]
  },
  {
   "cell_type": "code",
   "execution_count": 10,
   "metadata": {},
   "outputs": [
    {
     "data": {
      "text/html": [
       "<div>\n",
       "<style>\n",
       "    .dataframe thead tr:only-child th {\n",
       "        text-align: right;\n",
       "    }\n",
       "\n",
       "    .dataframe thead th {\n",
       "        text-align: left;\n",
       "    }\n",
       "\n",
       "    .dataframe tbody tr th {\n",
       "        vertical-align: top;\n",
       "    }\n",
       "</style>\n",
       "<table border=\"1\" class=\"dataframe\">\n",
       "  <thead>\n",
       "    <tr style=\"text-align: right;\">\n",
       "      <th></th>\n",
       "      <th>Id</th>\n",
       "      <th>SepalLengthCm</th>\n",
       "      <th>SepalWidthCm</th>\n",
       "      <th>PetalLengthCm</th>\n",
       "      <th>PetalWidthCm</th>\n",
       "    </tr>\n",
       "  </thead>\n",
       "  <tbody>\n",
       "    <tr>\n",
       "      <th>count</th>\n",
       "      <td>105.000000</td>\n",
       "      <td>105.000000</td>\n",
       "      <td>105.000000</td>\n",
       "      <td>105.000000</td>\n",
       "      <td>105.000000</td>\n",
       "    </tr>\n",
       "    <tr>\n",
       "      <th>mean</th>\n",
       "      <td>77.914286</td>\n",
       "      <td>5.879048</td>\n",
       "      <td>3.040000</td>\n",
       "      <td>3.886667</td>\n",
       "      <td>1.241905</td>\n",
       "    </tr>\n",
       "    <tr>\n",
       "      <th>std</th>\n",
       "      <td>42.182551</td>\n",
       "      <td>0.801044</td>\n",
       "      <td>0.450769</td>\n",
       "      <td>1.707510</td>\n",
       "      <td>0.723876</td>\n",
       "    </tr>\n",
       "    <tr>\n",
       "      <th>min</th>\n",
       "      <td>1.000000</td>\n",
       "      <td>4.400000</td>\n",
       "      <td>2.000000</td>\n",
       "      <td>1.200000</td>\n",
       "      <td>0.100000</td>\n",
       "    </tr>\n",
       "    <tr>\n",
       "      <th>25%</th>\n",
       "      <td>41.000000</td>\n",
       "      <td>5.100000</td>\n",
       "      <td>2.800000</td>\n",
       "      <td>1.700000</td>\n",
       "      <td>0.400000</td>\n",
       "    </tr>\n",
       "    <tr>\n",
       "      <th>50%</th>\n",
       "      <td>82.000000</td>\n",
       "      <td>5.800000</td>\n",
       "      <td>3.000000</td>\n",
       "      <td>4.400000</td>\n",
       "      <td>1.400000</td>\n",
       "    </tr>\n",
       "    <tr>\n",
       "      <th>75%</th>\n",
       "      <td>113.000000</td>\n",
       "      <td>6.400000</td>\n",
       "      <td>3.300000</td>\n",
       "      <td>5.100000</td>\n",
       "      <td>1.800000</td>\n",
       "    </tr>\n",
       "    <tr>\n",
       "      <th>max</th>\n",
       "      <td>149.000000</td>\n",
       "      <td>7.900000</td>\n",
       "      <td>4.400000</td>\n",
       "      <td>6.900000</td>\n",
       "      <td>2.500000</td>\n",
       "    </tr>\n",
       "  </tbody>\n",
       "</table>\n",
       "</div>"
      ],
      "text/plain": [
       "               Id  SepalLengthCm  SepalWidthCm  PetalLengthCm  PetalWidthCm\n",
       "count  105.000000     105.000000    105.000000     105.000000    105.000000\n",
       "mean    77.914286       5.879048      3.040000       3.886667      1.241905\n",
       "std     42.182551       0.801044      0.450769       1.707510      0.723876\n",
       "min      1.000000       4.400000      2.000000       1.200000      0.100000\n",
       "25%     41.000000       5.100000      2.800000       1.700000      0.400000\n",
       "50%     82.000000       5.800000      3.000000       4.400000      1.400000\n",
       "75%    113.000000       6.400000      3.300000       5.100000      1.800000\n",
       "max    149.000000       7.900000      4.400000       6.900000      2.500000"
      ]
     },
     "execution_count": 10,
     "metadata": {},
     "output_type": "execute_result"
    }
   ],
   "source": [
    "train.describe()"
   ]
  },
  {
   "cell_type": "markdown",
   "metadata": {},
   "source": [
    "For this workbook, we're going to try to predict a flower's species using it's Sepal and Petal dimensions. This is a classifcation problem. To make things easier to read and work with, we'll split the training data into two dataframes: X_train and y_train. Recall from the notation above, X_train is a dataframe (matrix) containing the Sepal and Petal features and y_train is a dataframe (column) containing just the species column i.e. the target label."
   ]
  },
  {
   "cell_type": "code",
   "execution_count": 11,
   "metadata": {
    "collapsed": true
   },
   "outputs": [],
   "source": [
    "X_train = train.drop('Species', axis=1)\n",
    "y_train = train['Species']\n",
    "\n",
    "X_test = test.drop('Species', axis=1)\n",
    "y_test = test['Species']"
   ]
  },
  {
   "cell_type": "code",
   "execution_count": 12,
   "metadata": {},
   "outputs": [
    {
     "data": {
      "text/html": [
       "<div>\n",
       "<style>\n",
       "    .dataframe thead tr:only-child th {\n",
       "        text-align: right;\n",
       "    }\n",
       "\n",
       "    .dataframe thead th {\n",
       "        text-align: left;\n",
       "    }\n",
       "\n",
       "    .dataframe tbody tr th {\n",
       "        vertical-align: top;\n",
       "    }\n",
       "</style>\n",
       "<table border=\"1\" class=\"dataframe\">\n",
       "  <thead>\n",
       "    <tr style=\"text-align: right;\">\n",
       "      <th></th>\n",
       "      <th>Id</th>\n",
       "      <th>SepalLengthCm</th>\n",
       "      <th>SepalWidthCm</th>\n",
       "      <th>PetalLengthCm</th>\n",
       "      <th>PetalWidthCm</th>\n",
       "    </tr>\n",
       "  </thead>\n",
       "  <tbody>\n",
       "    <tr>\n",
       "      <th>110</th>\n",
       "      <td>111</td>\n",
       "      <td>6.5</td>\n",
       "      <td>3.2</td>\n",
       "      <td>5.1</td>\n",
       "      <td>2.0</td>\n",
       "    </tr>\n",
       "    <tr>\n",
       "      <th>112</th>\n",
       "      <td>113</td>\n",
       "      <td>6.8</td>\n",
       "      <td>3.0</td>\n",
       "      <td>5.5</td>\n",
       "      <td>2.1</td>\n",
       "    </tr>\n",
       "    <tr>\n",
       "      <th>114</th>\n",
       "      <td>115</td>\n",
       "      <td>5.8</td>\n",
       "      <td>2.8</td>\n",
       "      <td>5.1</td>\n",
       "      <td>2.4</td>\n",
       "    </tr>\n",
       "    <tr>\n",
       "      <th>11</th>\n",
       "      <td>12</td>\n",
       "      <td>4.8</td>\n",
       "      <td>3.4</td>\n",
       "      <td>1.6</td>\n",
       "      <td>0.2</td>\n",
       "    </tr>\n",
       "    <tr>\n",
       "      <th>15</th>\n",
       "      <td>16</td>\n",
       "      <td>5.7</td>\n",
       "      <td>4.4</td>\n",
       "      <td>1.5</td>\n",
       "      <td>0.4</td>\n",
       "    </tr>\n",
       "  </tbody>\n",
       "</table>\n",
       "</div>"
      ],
      "text/plain": [
       "      Id  SepalLengthCm  SepalWidthCm  PetalLengthCm  PetalWidthCm\n",
       "110  111            6.5           3.2            5.1           2.0\n",
       "112  113            6.8           3.0            5.5           2.1\n",
       "114  115            5.8           2.8            5.1           2.4\n",
       "11    12            4.8           3.4            1.6           0.2\n",
       "15    16            5.7           4.4            1.5           0.4"
      ]
     },
     "execution_count": 12,
     "metadata": {},
     "output_type": "execute_result"
    }
   ],
   "source": [
    "X_train.head()"
   ]
  },
  {
   "cell_type": "code",
   "execution_count": 13,
   "metadata": {},
   "outputs": [
    {
     "data": {
      "text/plain": [
       "110    Iris-virginica\n",
       "112    Iris-virginica\n",
       "114    Iris-virginica\n",
       "11        Iris-setosa\n",
       "15        Iris-setosa\n",
       "Name: Species, dtype: object"
      ]
     },
     "execution_count": 13,
     "metadata": {},
     "output_type": "execute_result"
    }
   ],
   "source": [
    "y_train.head()"
   ]
  },
  {
   "cell_type": "markdown",
   "metadata": {},
   "source": [
    "## Data Visualization"
   ]
  },
  {
   "cell_type": "markdown",
   "metadata": {},
   "source": [
    "Now that we have our training data, what does it look like? Since our data has very few features, we can use the Seaborn library to generate a pairplot. The plot may seem a little overwhelming at first but it is not difficult to read and pretty powerful."
   ]
  },
  {
   "cell_type": "code",
   "execution_count": 14,
   "metadata": {},
   "outputs": [
    {
     "data": {
      "image/png": "[encoded data removed]",
      "text/plain": [
       "<matplotlib.figure.Figure at 0xc1adf98>"
      ]
     },
     "metadata": {},
     "output_type": "display_data"
    }
   ],
   "source": [
    "sns_plot = sns.pairplot(train.drop(\"Id\", axis=1), hue=\"Species\", size=3)"
   ]
  },
  {
   "cell_type": "markdown",
   "metadata": {},
   "source": [
    "So what are we looking at? A pair plot, as the name suggests, generates a plot for every pair of features in a dataset and lays them out in a grid/matrix. For diagonal elements where the pair consists of identical features a histogram is plotted instead showing the distribution of values of that feature, color-coded by class label (in this case, Species). At a quick glance, we can see that the Iris-setosa species is significantly different from the others in each physical measurement."
   ]
  },
  {
   "cell_type": "markdown",
   "metadata": {},
   "source": [
    "Let's save this plot to our output directory:"
   ]
  },
  {
   "cell_type": "code",
   "execution_count": 15,
   "metadata": {
    "collapsed": true
   },
   "outputs": [],
   "source": [
    "sns_plot.savefig(os.path.join(OUT_DIR, \"pairplot.png\"))"
   ]
  },
  {
   "cell_type": "markdown",
   "metadata": {},
   "source": [
    "## Distance Metrics"
   ]
  },
  {
   "cell_type": "markdown",
   "metadata": {},
   "source": [
    "L1 Distance:\n",
    "\n",
    "$$ d_1 = \\sum_{i=0}^{D}| x_1 - x_2 | $$"
   ]
  },
  {
   "cell_type": "code",
   "execution_count": 16,
   "metadata": {
    "collapsed": true
   },
   "outputs": [],
   "source": [
    "def l1_norm(x1, x2):\n",
    "    return np.sum(np.abs(x1-x2))"
   ]
  },
  {
   "cell_type": "markdown",
   "metadata": {},
   "source": [
    "L2 Distance aka good ole Euclidean Distance:\n",
    "\n",
    "$$ d_2 = \\sqrt{(x_1 - x_2)^2} $$\n",
    "\n",
    "If x1 and x2 are vectors of dimenion D, $$x_1, x_2 \\in \\mathbb{R}^D $$ then the distance becomes\n",
    "\n",
    "$$ d_2 = \\sqrt{\\sum_{i=0}^{D}(x_1 - x_2)^2} $$"
   ]
  },
  {
   "cell_type": "code",
   "execution_count": 17,
   "metadata": {
    "collapsed": true
   },
   "outputs": [],
   "source": [
    "# def l2_norm(x1, x2):\n",
    "#     distance = np.sqrt(np.sum(np.square(x1-x2)))\n",
    "    # TODO: Delete the line below and implement the l2 norm using the l1 norm example above\n",
    "    "
   ]
  },
  {
   "cell_type": "markdown",
   "metadata": {},
   "source": [
    "The square root function is very expensive computationally. Since it is a monotonic function, we can do without it:"
   ]
  },
  {
   "cell_type": "code",
   "execution_count": 18,
   "metadata": {
    "collapsed": true
   },
   "outputs": [],
   "source": [
    "def l2_norm(x1, x2):\n",
    "    # TODO: Get rid of the square root from your function above\n",
    "    distance = np.sum(np.square(x1-x2))\n",
    "    return distance"
   ]
  },
  {
   "cell_type": "markdown",
   "metadata": {},
   "source": [
    "## Nearest neighbor\n",
    "Given an input test datum and training data, assign a label to the test based on which point in the training data it is 'closest' to."
   ]
  },
  {
   "cell_type": "code",
   "execution_count": 19,
   "metadata": {
    "collapsed": true
   },
   "outputs": [],
   "source": [
    "def nearest_neighbor(x_test, X_train):\n",
    "    min_idx = 0\n",
    "    distances = []\n",
    "\n",
    "    for i in range(X_train.shape[0]):\n",
    "        \n",
    "        # TODO: Calculate the distance between the test vector \n",
    "        # and the current row in the dataset\n",
    "        dist = l2_norm(X_train.iloc[i,:], x_test)\n",
    "        \n",
    "        distances.append(dist)\n",
    "    \n",
    "    # The row vector in X_train at min_idx is the data vector closest to x_test\n",
    "    return X_train.iloc[distances.index(min(distances)), :]"
   ]
  },
  {
   "cell_type": "markdown",
   "metadata": {},
   "source": [
    "Now let's test our nearest neighbor implementation"
   ]
  },
  {
   "cell_type": "code",
   "execution_count": 20,
   "metadata": {},
   "outputs": [
    {
     "name": "stdout",
     "output_type": "stream",
     "text": [
      "Input Test Vector:\n",
      "Id               31.0\n",
      "SepalLengthCm     4.8\n",
      "SepalWidthCm      3.1\n",
      "PetalLengthCm     1.6\n",
      "PetalWidthCm      0.2\n",
      "Name: 30, dtype: float64\n",
      "Species: Iris-setosa\n",
      "\n",
      "Nearest Neighbor: \n",
      "Id               4.0\n",
      "SepalLengthCm    4.6\n",
      "SepalWidthCm     3.1\n",
      "PetalLengthCm    1.5\n",
      "PetalWidthCm     0.2\n",
      "Name: 3, dtype: float64\n",
      "Species: Iris-setosa\n"
     ]
    }
   ],
   "source": [
    "print(\"Input Test Vector:\")\n",
    "print(X_test.iloc[11, :])\n",
    "print(\"Species: {0}\".format(y_test.iloc[1]))\n",
    "\n",
    "nn = nearest_neighbor(X_test.iloc[1, :], X_train)\n",
    "print(\"\\nNearest Neighbor: \")\n",
    "print(nn)\n",
    "print(\"Species: {0}\".format(y_train.iloc[int(nn['Id'])]))"
   ]
  },
  {
   "cell_type": "markdown",
   "metadata": {},
   "source": [
    "It works!"
   ]
  },
  {
   "cell_type": "markdown",
   "metadata": {},
   "source": [
    "## k-Nearest Neighbors\n",
    "Let's extend the example from above. Generalize nearest neighbor to find the k nearest neighbors and return their index in the training data"
   ]
  },
  {
   "cell_type": "code",
   "execution_count": 21,
   "metadata": {
    "collapsed": true
   },
   "outputs": [],
   "source": [
    "def k_neighbors(x_test, X_train, k):\n",
    "    distances = []\n",
    "    \n",
    "    for i in range(X_train.shape[0]):\n",
    "        dist = l2_norm(x_test, X_train.iloc[i, :])\n",
    "        # Store the distance, index pairs as tuples in our\n",
    "        # distances array\n",
    "        distances.append((dist, i))\n",
    "    # This will sort the distances array from smallest to largest based\n",
    "    # on the distance in the (distance, index) tuples\n",
    "    distances = sorted(distances)\n",
    "    \n",
    "    # Return the indices of the nearest k neighbors\n",
    "    return [i[1] for i in distances][:k]"
   ]
  },
  {
   "cell_type": "markdown",
   "metadata": {},
   "source": [
    "Now, use the k-nearest neighbors to vote on the class label of our test vector:"
   ]
  },
  {
   "cell_type": "code",
   "execution_count": 22,
   "metadata": {
    "collapsed": true
   },
   "outputs": [],
   "source": [
    "def knn_predict(x_test, X_train, y_train, k):\n",
    "    neighbors_idx = k_neighbors(x_test, X_train, k)\n",
    "    labels = []\n",
    "    \n",
    "    for n in neighbors_idx:\n",
    "        labels.append(y_train.iloc[n])\n",
    "    \n",
    "    # TODO: Return the most common label in labels\n",
    "    \n",
    "    most_common_label = Counter(labels).most_common(1)[0][0]\n",
    "    return most_common_label\n",
    "    "
   ]
  },
  {
   "cell_type": "markdown",
   "metadata": {},
   "source": [
    "Finally, let's test our kNN implementation for k=5"
   ]
  },
  {
   "cell_type": "code",
   "execution_count": 23,
   "metadata": {},
   "outputs": [
    {
     "name": "stdout",
     "output_type": "stream",
     "text": [
      "Input Test Vector:\n",
      "Id               142.0\n",
      "SepalLengthCm      6.9\n",
      "SepalWidthCm       3.1\n",
      "PetalLengthCm      5.1\n",
      "PetalWidthCm       2.3\n",
      "Name: 141, dtype: float64\n",
      "Species: Iris-virginica\n",
      "\n",
      "kNN Predicted Species: \n",
      "Iris-virginica\n"
     ]
    }
   ],
   "source": [
    "print(\"Input Test Vector:\")\n",
    "print(X_test.iloc[40, :])\n",
    "print(\"Species: {0}\".format(y_test.iloc[40]))\n",
    "\n",
    "nn = knn_predict(X_test.iloc[40, :], X_train, y_train, 5)\n",
    "print(\"\\nkNN Predicted Species: \")\n",
    "print(nn)\n"
   ]
  },
  {
   "cell_type": "markdown",
   "metadata": {},
   "source": [
    "Not too shabby."
   ]
  },
  {
   "cell_type": "markdown",
   "metadata": {},
   "source": [
    "## Loss Functions\n",
    "\n",
    "Here we implement some of the loss functions discussed in lecture. \n",
    "\n",
    "The simplest loss is the mean squared error loss (MSE), which is just a simple extension of the l2 norm:"
   ]
  },
  {
   "cell_type": "markdown",
   "metadata": {},
   "source": [
    "$$ L = MSE = \\frac{1}{N}\\sum_{i=0}^{N}(\\hat{Y}_i - Y_i)^2 $$"
   ]
  },
  {
   "cell_type": "markdown",
   "metadata": {},
   "source": [
    "Here, $\\hat{Y}_i$ is the predicted label and $Y_i$ is the actual label in the dataset. Our goal is to minimize this function, and thus have accurate predictions. "
   ]
  },
  {
   "cell_type": "code",
   "execution_count": 29,
   "metadata": {
    "collapsed": true
   },
   "outputs": [],
   "source": [
    "def loss_mse(y_pred, y):\n",
    "    return (1 / y.shape[0]) * np.sum(np.square(y_pred - y))"
   ]
  },
  {
   "cell_type": "markdown",
   "metadata": {},
   "source": [
    "The SVM loss is a little more involved and used for training classifiers as we will do later on for the Iris dataset. Here, we want to make sure that the score assigned to the correct class label is higher than every other (incorrect) label by at least some margin $\\Delta$:"
   ]
  },
  {
   "cell_type": "markdown",
   "metadata": {},
   "source": [
    "$$ L = \\frac{1}{N} \\sum_i \\sum_{j\\neq y_i} \\left[ \\max(0, f(x_i; W)_j - f(x_i; W)_{y_i} + \\Delta) \\right] $$"
   ]
  },
  {
   "cell_type": "code",
   "execution_count": 24,
   "metadata": {
    "collapsed": true
   },
   "outputs": [],
   "source": [
    "def loss_svm(x, y, W):\n",
    "    delta = 1.0\n",
    "    scores = W.dot(x)\n",
    "    margins = np.maximum(0, scores - scores[y] + delta)\n",
    "    margins[y] = 0\n",
    "    return np.sum(margins) "
   ]
  },
  {
   "cell_type": "markdown",
   "metadata": {},
   "source": [
    "Now, let's implement the SVM loss but with L2 regularization:"
   ]
  },
  {
   "cell_type": "markdown",
   "metadata": {},
   "source": [
    "$$ L = \\frac{1}{N} \\sum_i \\sum_{j\\neq y_i} \\left[ \\max(0, f(x_i; W)_j - f(x_i; W)_{y_i} + \\Delta) \\right] + \\lambda \\sum_k\\sum_l W_{k,l}^2 $$"
   ]
  },
  {
   "cell_type": "code",
   "execution_count": 25,
   "metadata": {
    "collapsed": true
   },
   "outputs": [],
   "source": [
    "def loss_l2_svm(x, y, W, reg):\n",
    "    reg_penalty = reg * np.sum(np.square(W))\n",
    "    return loss_svm(x, y, W) + (0.5 * reg_penalty)"
   ]
  },
  {
   "cell_type": "markdown",
   "metadata": {},
   "source": [
    "## Gradient Descent"
   ]
  },
  {
   "cell_type": "markdown",
   "metadata": {},
   "source": [
    "Try playing around with the learning rate below and see the effect it has on your cost!"
   ]
  },
  {
   "cell_type": "code",
   "execution_count": 32,
   "metadata": {
    "collapsed": true
   },
   "outputs": [],
   "source": [
    "def gradientDescent(x, y, theta, alpha, m, numIterations): #ayy we descent now\n",
    "    xTrans = x.transpose()\n",
    "    J = []\n",
    "    \n",
    "    for i in range(0, numIterations):\n",
    "        predicted = np.dot(x, theta)\n",
    "        loss = predicted - y\n",
    "        cost = 0.5 * loss_mse(predicted, y)\n",
    "        \n",
    "        J.append(cost)\n",
    "        print(\"Iteration %d | Cost: %f\" % (i, cost))\n",
    "        \n",
    "        # avg gradient per example\n",
    "        gradient = np.dot(xTrans, loss) / m\n",
    "        # update\n",
    "        theta = theta - alpha * gradient\n",
    "    return theta, J"
   ]
  },
  {
   "cell_type": "code",
   "execution_count": 33,
   "metadata": {
    "collapsed": true
   },
   "outputs": [],
   "source": [
    "x = np.matrix('1 2;1 4;1 6')\n",
    "y = np.matrix('1;3;2')\n",
    "theta = np.matrix('0;1')"
   ]
  },
  {
   "cell_type": "code",
   "execution_count": 34,
   "metadata": {
    "scrolled": true
   },
   "outputs": [
    {
     "name": "stdout",
     "output_type": "stream",
     "text": [
      "Iteration 0 | Cost: 0.000000\n",
      "Iteration 1 | Cost: 0.000000\n",
      "Iteration 2 | Cost: 0.000000\n",
      "Iteration 3 | Cost: 0.000000\n",
      "Iteration 4 | Cost: 0.000000\n",
      "Iteration 5 | Cost: 0.000000\n",
      "Iteration 6 | Cost: 0.000000\n",
      "Iteration 7 | Cost: 0.000000\n",
      "Iteration 8 | Cost: 0.000000\n",
      "Iteration 9 | Cost: 0.000000\n"
     ]
    }
   ],
   "source": [
    "theta, J = gradientDescent(x,y,theta,0.01,3,10)"
   ]
  },
  {
   "cell_type": "code",
   "execution_count": 31,
   "metadata": {},
   "outputs": [
    {
     "data": {
      "image/png": "[encoded data removed]",
      "text/plain": [
       "<matplotlib.figure.Figure at 0xde25be0>"
      ]
     },
     "metadata": {},
     "output_type": "display_data"
    }
   ],
   "source": [
    "plt.plot(np.arange(0, 10, 1), J)\n",
    "plt.xlabel('Iterations')\n",
    "plt.ylabel('Cost')\n",
    "plt.title('Cost Curve')\n",
    "plt.savefig(os.path.join(OUT_DIR, 'cost.png'))"
   ]
  },
  {
   "cell_type": "markdown",
   "metadata": {},
   "source": [
    "## Linear Regression"
   ]
  },
  {
   "cell_type": "markdown",
   "metadata": {},
   "source": [
    "Since this dataset is used for classification, predicting the species of a flower will require a classification algorithm like kNN or logistic regression. However, our features are real-valued, and so we can try to see if there are any relationships between them. Let's take a look at the Sepal length and width for the Iris-setosa species:"
   ]
  },
  {
   "cell_type": "code",
   "execution_count": 35,
   "metadata": {},
   "outputs": [
    {
     "data": {
      "text/plain": [
       "<seaborn.axisgrid.FacetGrid at 0xde6f240>"
      ]
     },
     "execution_count": 35,
     "metadata": {},
     "output_type": "execute_result"
    },
    {
     "data": {
      "image/png": "[encoded data removed]",
      "text/plain": [
       "<matplotlib.figure.Figure at 0xe640f60>"
      ]
     },
     "metadata": {},
     "output_type": "display_data"
    }
   ],
   "source": [
    "sns.FacetGrid(train.loc[train['Species'] == 'Iris-setosa'], hue=\"Species\", size=5) \\\n",
    "   .map(plt.scatter, \"SepalWidthCm\", \"SepalLengthCm\") \\\n",
    "   .add_legend()"
   ]
  },
  {
   "cell_type": "markdown",
   "metadata": {},
   "source": [
    "There appears to be some linear relationship between Sepal length and width for the Iris-setosa species. Can we quantitatively describe this relationship? In statistics, we would've used OLS or MLE to find the exact equation for the parameters $\\theta_0$ and $\\theta_1$ that describe a linear relationship:\n",
    "$$ y = \\theta_0 + \\theta_1 x$$\n",
    "Instead, let's try to determine the parameters using gradient descent - this will be a useful exercise to prepare us for when we can no longer find an analytic solution for the optimal parameters (i.e. neural networks)."
   ]
  },
  {
   "cell_type": "markdown",
   "metadata": {},
   "source": [
    "For this, we'll create two functions - one to learn the parameters and another to make predictions. The reasons for this are twofold:\n",
    "a) Clearly seperate the two main stages of machine learning\n",
    "b) Many machine learning libraries, including the popular sklearn, are written in this fashion and so you can write model.fit() and model.predict() for any model of your choosing."
   ]
  },
  {
   "cell_type": "code",
   "execution_count": 36,
   "metadata": {
    "collapsed": true
   },
   "outputs": [],
   "source": [
    "def linreg_fit(X, y, iters=1000, alpha=0.1):\n",
    "    \"\"\"\n",
    "    NOTE: This is not a general multivariate linear regression implementation.\n",
    "    Args:\n",
    "        X - Training data features\n",
    "        y - Training data corresponding labels\n",
    "        iters - Number of iterations of gradient descent\n",
    "        alpha - Learning rate\n",
    "    Returns:\n",
    "        theta - 2D vector containing theta_0 and theta_1\n",
    "        J - the values of the cost function at each iteration\n",
    "    \"\"\"\n",
    "    theta = np.zeros(shape=(2, 1))\n",
    "    J = np.zeros(shape=(iters, 1))\n",
    "    n = y.size\n",
    "    \n",
    "    b = np.ones((X.shape[0],))\n",
    "   \n",
    "    X = np.stack((b, X), axis=1)\n",
    "   \n",
    "    for i in range(iters):\n",
    "        predicted = np.dot(X, theta)\n",
    "\n",
    "        err_0 = (predicted[:, 0] - y) * X[:, 0]\n",
    "        \n",
    "        err_1 = (predicted[:, 0] - y) * X[:, 1]\n",
    "\n",
    "        # Update parameters based on computed gradient\n",
    "        theta[0][0] = theta[0][0] - alpha * (1.0 / n) * err_0.sum()\n",
    "        theta[1][0] = theta[1][0] - alpha * (1.0 / n) * err_1.sum()\n",
    "\n",
    "        J[i, 0] = 0.5 * loss_mse(predicted[:, 0], y)\n",
    "\n",
    "    return theta, J"
   ]
  },
  {
   "cell_type": "code",
   "execution_count": 37,
   "metadata": {
    "collapsed": true
   },
   "outputs": [],
   "source": [
    "def linreg_predict(X_test, theta):\n",
    "    return theta[0, :] + np.dot(X_test, theta[1, 0]) "
   ]
  },
  {
   "cell_type": "markdown",
   "metadata": {},
   "source": [
    "Now, let's test our linear regression. First let's get the data we need:"
   ]
  },
  {
   "cell_type": "code",
   "execution_count": 38,
   "metadata": {
    "collapsed": true
   },
   "outputs": [],
   "source": [
    "X_train_linreg = train.loc[train['Species'] == 'Iris-setosa']['SepalWidthCm']\n",
    "y_train_linreg = train.loc[train['Species'] == 'Iris-setosa']['SepalLengthCm']"
   ]
  },
  {
   "cell_type": "code",
   "execution_count": 39,
   "metadata": {},
   "outputs": [
    {
     "name": "stdout",
     "output_type": "stream",
     "text": [
      "[[ 1.77400456]\n",
      " [ 0.94139603]]\n"
     ]
    }
   ],
   "source": [
    "theta, J = linreg_fit(X_train_linreg, y_train_linreg)\n",
    "print(theta)"
   ]
  },
  {
   "cell_type": "code",
   "execution_count": 40,
   "metadata": {},
   "outputs": [
    {
     "data": {
      "text/plain": [
       "<matplotlib.text.Text at 0xf1be240>"
      ]
     },
     "execution_count": 40,
     "metadata": {},
     "output_type": "execute_result"
    },
    {
     "data": {
      "image/png": "[encoded data removed]",
      "text/plain": [
       "<matplotlib.figure.Figure at 0xeddc1d0>"
      ]
     },
     "metadata": {},
     "output_type": "display_data"
    }
   ],
   "source": [
    "y = linreg_predict(X_train_linreg, theta)\n",
    "plt.plot(X_train_linreg, y_train_linreg, 'o', X_train_linreg, y)\n",
    "plt.xlabel('SepalWidthCm')\n",
    "plt.ylabel('SepalLengthCm')\n",
    "plt.title('Sepal Width vs Length')"
   ]
  },
  {
   "cell_type": "markdown",
   "metadata": {},
   "source": [
    "## Survey!\n",
    "\n",
    "Please fill this out, your feedback is greatly appreciated! https://docs.google.com/forms/d/e/1FAIpQLSdjf3uXd8u96v8Z5l5jazvyRmfyPqJXS_2xORFQZ11JQWRSNg/viewform"
   ]
  },
  {
   "cell_type": "markdown",
   "metadata": {},
   "source": [
    "## Logistic Regression"
   ]
  },
  {
   "cell_type": "markdown",
   "metadata": {},
   "source": [
    "$$ f(z) = \\frac{1}{1 + \\mathrm{e}^{-z}} $$"
   ]
  },
  {
   "cell_type": "code",
   "execution_count": 41,
   "metadata": {
    "collapsed": true
   },
   "outputs": [],
   "source": [
    "def sigmoid(z):\n",
    "    return 1 / (1 + np.exp(-z))"
   ]
  },
  {
   "cell_type": "code",
   "execution_count": 42,
   "metadata": {
    "collapsed": true
   },
   "outputs": [],
   "source": [
    "def logistic_regr(X, y, n, alpha):\n",
    "    \"\"\"\n",
    "    Args:\n",
    "        X - training data features\n",
    "        y - training data target labels\n",
    "        n - number of iterations of gradient descent\n",
    "        alpha - learning rate\n",
    "    Returns:\n",
    "        w - learned weights\n",
    "    \"\"\"\n",
    "    \n",
    "    # Let's add a row of ones to the training data features\n",
    "    # That way we don't have to keep track of the b vector separately\n",
    "    b = np.ones((X.shape[0], 1))\n",
    "    X = np.stack((b, X), axis=1)\n",
    "    \n",
    "    w = np.zeros(X.shape[1])\n",
    "    \n",
    "    for i in xrange(n):\n",
    "        \n",
    "        predicted = sigmoid(np.dot(X, w))\n",
    "        \n",
    "        loss = l2_norm(predicted, y)\n",
    "        \n",
    "        grad = np.dot(X.T, loss)\n",
    "        \n",
    "        w += alpha * gradient\n",
    "        \n",
    "    print(\"Learned weights: \\t{0}\".format(w))\n",
    "    return w"
   ]
  }
 ],
 "metadata": {
  "anaconda-cloud": {},
  "kernelspec": {
   "display_name": "Python 2",
   "language": "python",
   "name": "python2"
  },
  "language_info": {
   "codemirror_mode": {
    "name": "ipython",
    "version": 2
   },
   "file_extension": ".py",
   "mimetype": "text/x-python",
   "name": "python",
   "nbconvert_exporter": "python",
   "pygments_lexer": "ipython2",
   "version": "2.7.14"
  }
 },
 "nbformat": 4,
 "nbformat_minor": 2
}
